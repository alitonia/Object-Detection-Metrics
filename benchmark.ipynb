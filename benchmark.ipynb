{
 "cells": [
  {
   "cell_type": "code",
   "execution_count": null,
   "metadata": {
    "pycharm": {
     "name": "#%%\n"
    }
   },
   "outputs": [],
   "source": [
    "%matplotlib inline\n",
    "\n",
    "import time\n",
    "import os\n",
    "from matplotlib import pyplot as plt\n",
    "import multiprocessing\n",
    "import cv2\n",
    "import random\n",
    "\n",
    "is_test = False\n"
   ]
  },
  {
   "cell_type": "code",
   "execution_count": null,
   "metadata": {},
   "outputs": [],
   "source": [
    "def change_ext(file, new_ext):\n",
    "\tfilename, file_extension = os.path.splitext(file)\n",
    "\treturn filename + '.' + new_ext"
   ]
  },
  {
   "cell_type": "code",
   "execution_count": null,
   "metadata": {},
   "outputs": [],
   "source": [
    "class B:\n",
    "\tdef initialize(self):\n",
    "\t\tprint('hello')\n",
    "\t\n",
    "\tdef detect(self, img):\n",
    "\t\treturn [[1, 2, 3, 4, 5], [1, 5, 6, 7, 8]]\n",
    "\t\n",
    "\tdef load(self, img_path):\n",
    "\t\treturn cv2.imread(img_path, cv2.IMREAD_COLOR)\n",
    "\n",
    "\n",
    "o = B()\n",
    "o.initialize()\n"
   ]
  },
  {
   "cell_type": "code",
   "execution_count": null,
   "metadata": {
    "pycharm": {
     "name": "#%%\n"
    }
   },
   "outputs": [],
   "source": [
    "total = 0\n",
    "with open('temp.log', 'r') as f:\n",
    "\ttotal = int(f.readline())\n",
    "\n",
    "print(total)"
   ]
  },
  {
   "cell_type": "code",
   "execution_count": null,
   "metadata": {
    "pycharm": {
     "name": "#%%\n"
    }
   },
   "outputs": [],
   "source": [
    "file_paths = []\n",
    "\n",
    "path = 'WIDER_val/images'\n",
    "\n",
    "for (dirpath, dirnames, filenames) in os.walk(path):\n",
    "\tif len(dirnames) == 0:\n",
    "\t\tfile_paths.extend([os.path.join(dirpath, f_name) for f_name in filenames])\n",
    "\n",
    "print(file_paths[0])"
   ]
  },
  {
   "cell_type": "code",
   "execution_count": null,
   "metadata": {
    "pycharm": {
     "name": "#%%\n"
    }
   },
   "outputs": [],
   "source": [
    "import os\n",
    "import random\n",
    "\n",
    "target_path = 'groundtruths'\n",
    "mirror_path = 'detections'\n",
    "\n",
    "files = []\n",
    "for (dirpath, dirnames, filenames) in os.walk(target_path):\n",
    "    if len(dirnames) == 0:\n",
    "        files.extend([os.path.splitext(f_name)[0] for f_name in filenames])\n",
    "\n",
    "\n",
    "def reduce_size(l):\n",
    "    return random.sample(l, 10)\n",
    "\n",
    "\n",
    "files = reduce_size(files)\n",
    "\n",
    "\n",
    "def filter_path(l):\n",
    "    return [k for k in l if os.path.splitext(os.path.split(k)[1])[0] in files]\n",
    "\n",
    "\n",
    "file_paths = filter_path(file_paths)"
   ]
  },
  {
   "cell_type": "code",
   "execution_count": null,
   "metadata": {},
   "outputs": [],
   "source": [
    "# files.sort()\n",
    "# print(len(files))\n",
    "print(len(files))\n",
    "print(len(set(file_paths)))\n",
    "# print(file_paths[:5])\n"
   ]
  },
  {
   "cell_type": "code",
   "execution_count": null,
   "metadata": {
    "pycharm": {
     "name": "#%%\n"
    }
   },
   "outputs": [],
   "source": [
    "print(f\"Timing on {multiprocessing.cpu_count()} CPUs\")\n",
    "\n",
    "total_time = 0\n",
    "for i in file_paths:\n",
    "\tprint(i)\n",
    "\timg = o.load(i)\n",
    "\tstart = time.time()\n",
    "\to.detect(img)\n",
    "\tdiff = time.time() - start\n",
    "\ttotal_time += diff\n",
    "\tif is_test:\n",
    "\t\tbreak\n",
    "\n",
    "elapsed_time = total_time\n",
    "print(f\"Total time: {elapsed_time}\")\n",
    "print(f\"Average time: {elapsed_time / total}\")"
   ]
  },
  {
   "cell_type": "code",
   "execution_count": null,
   "metadata": {
    "pycharm": {
     "name": "#%%\n"
    }
   },
   "outputs": [],
   "source": [
    "detect_path = 'detections'\n",
    "print(f\"Accuracy\")\n",
    "\n",
    "for path in file_paths:\n",
    "\ttry_split = os.path.split(path)\n",
    "\tfile_name = try_split[1]\n",
    "\timg = o.load(path)\n",
    "\tresults = o.detect(img)\n",
    "\tnew_file_path = os.path.join(detect_path, change_ext(file_name, 'txt'))\n",
    "\tprint(new_file_path)\n",
    "\tprint(results)\n",
    "\t# print(ne)\n",
    "\twith open(new_file_path, 'w') as f:\n",
    "\t\tfor result in results:\n",
    "\t\t\tf.write(f\"face {' '.join([str(i) for i in result])}\\n\")\n",
    "\t# if is_test:\n",
    "\t# \tbreak\n"
   ]
  },
  {
   "cell_type": "code",
   "execution_count": null,
   "metadata": {
    "pycharm": {
     "name": "#%%\n"
    }
   },
   "outputs": [],
   "source": []
  }
 ],
 "metadata": {
  "kernelspec": {
   "display_name": "Python 3",
   "language": "python",
   "name": "python3"
  },
  "language_info": {
   "codemirror_mode": {
    "name": "ipython",
    "version": 3
   },
   "file_extension": ".py",
   "mimetype": "text/x-python",
   "name": "python",
   "nbconvert_exporter": "python",
   "pygments_lexer": "ipython3",
   "version": "3.8.5"
  }
 },
 "nbformat": 4,
 "nbformat_minor": 1
}
