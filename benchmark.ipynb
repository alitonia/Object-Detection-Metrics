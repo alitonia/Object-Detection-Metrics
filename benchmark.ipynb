{
 "cells": [
  {
   "cell_type": "code",
   "execution_count": 54,
   "metadata": {
    "pycharm": {
     "name": "#%%\n"
    }
   },
   "outputs": [],
   "source": [
    "%matplotlib inline\n",
    "\n",
    "import time\n",
    "import os\n",
    "from matplotlib import pyplot as plt\n",
    "import multiprocessing\n",
    "import cv2\n",
    "\n",
    "is_test = False\n"
   ]
  },
  {
   "cell_type": "code",
   "execution_count": 55,
   "metadata": {},
   "outputs": [],
   "source": [
    "def change_ext(file, new_ext):\n",
    "\tfilename, file_extension = os.path.splitext(file)\n",
    "\treturn filename + '.' + new_ext"
   ]
  },
  {
   "cell_type": "code",
   "execution_count": 56,
   "metadata": {},
   "outputs": [
    {
     "name": "stdout",
     "output_type": "stream",
     "text": [
      "hello\n"
     ]
    }
   ],
   "source": [
    "class B:\n",
    "\tdef initialize(self):\n",
    "\t\tprint('hello')\n",
    "\t\n",
    "\tdef detect(self, img):\n",
    "\t\treturn [[1, 2, 3, 4, 5], [1, 5, 6, 7, 8]]\n",
    "\t\n",
    "\tdef load(self, img_path):\n",
    "\t\treturn cv2.imread(img_path, cv2.IMREAD_COLOR)\n",
    "\n",
    "\n",
    "o = B()\n",
    "o.initialize()\n"
   ]
  },
  {
   "cell_type": "code",
   "execution_count": 57,
   "metadata": {
    "pycharm": {
     "name": "#%%\n"
    }
   },
   "outputs": [
    {
     "name": "stdout",
     "output_type": "stream",
     "text": [
      "3225\n"
     ]
    }
   ],
   "source": [
    "total = 0\n",
    "with open('temp.log', 'r') as f:\n",
    "\ttotal = int(f.readline())\n",
    "\n",
    "print(total)"
   ]
  },
  {
   "cell_type": "code",
   "execution_count": 58,
   "metadata": {
    "pycharm": {
     "name": "#%%\n"
    }
   },
   "outputs": [
    {
     "name": "stdout",
     "output_type": "stream",
     "text": [
      "test/0_Parade_marchingband_1_18.jpg\n"
     ]
    }
   ],
   "source": [
    "file_paths = []\n",
    "\n",
    "path = 'WIDER_test/WIDER_test/images'\n",
    "\n",
    "for (dirpath, dirnames, filenames) in os.walk(path):\n",
    "\tif len(dirnames) == 0:\n",
    "\t\tfile_paths.extend([os.path.join(dirpath, f_name) for f_name in filenames])\n",
    "\n",
    "print(file_paths[0])"
   ]
  },
  {
   "cell_type": "code",
   "execution_count": 60,
   "metadata": {
    "pycharm": {
     "name": "#%%\n"
    }
   },
   "outputs": [
    {
     "name": "stdout",
     "output_type": "stream",
     "text": [
      "Timing on 4 CPUs\n",
      "test/0_Parade_marchingband_1_18.jpg\n",
      "Total time: 1.0251998901367188e-05\n",
      "Average time: 3.1789143880208335e-09\n"
     ]
    }
   ],
   "source": [
    "print(f\"Timing on {multiprocessing.cpu_count()} CPUs\")\n",
    "\n",
    "total_time = 0\n",
    "for i in file_paths:\n",
    "\tprint(i)\n",
    "\timg = o.load(i)\n",
    "\tstart = time.time()\n",
    "\to.detect(img)\n",
    "\tdiff = time.time() - start\n",
    "\ttotal_time += diff\n",
    "\tif is_test:\n",
    "\t\tbreak\n",
    "\n",
    "elapsed_time = total_time\n",
    "print(f\"Total time: {elapsed_time}\")\n",
    "print(f\"Average time: {elapsed_time / total}\")"
   ]
  },
  {
   "cell_type": "code",
   "execution_count": 50,
   "metadata": {
    "pycharm": {
     "name": "#%%\n"
    }
   },
   "outputs": [
    {
     "name": "stdout",
     "output_type": "stream",
     "text": [
      "Accuracy\n",
      "detections/35_Basketball_playingbasketball_35_454.txt\n",
      "[[1, 2, 3, 4, 5], [1, 5, 6, 7, 8]]\n"
     ]
    }
   ],
   "source": [
    "detect_path = 'detections'\n",
    "print(f\"Accuracy\")\n",
    "\n",
    "for path in file_paths:\n",
    "\ttry_split = os.path.split(path)\n",
    "\tfile_name = try_split[1]\n",
    "\timg = o.load(path)\n",
    "\tresults = o.detect(img)\n",
    "\tnew_file_path = os.path.join(detect_path, change_ext(file_name, 'txt'))\n",
    "\tprint(new_file_path)\n",
    "\tprint(results)\n",
    "\twith open(new_file_path, 'w') as f:\n",
    "\t\tfor result in results:\n",
    "\t\t\tf.write(f\"face {' '.join([str(i) for i in result])}\\n\")\n",
    "\tif is_test:\n",
    "\t\tbreak\n"
   ]
  },
  {
   "cell_type": "code",
   "execution_count": null,
   "metadata": {
    "pycharm": {
     "name": "#%%\n"
    }
   },
   "outputs": [],
   "source": []
  }
 ],
 "metadata": {
  "kernelspec": {
   "display_name": "Python 3",
   "language": "python",
   "name": "python3"
  },
  "language_info": {
   "codemirror_mode": {
    "name": "ipython",
    "version": 3
   },
   "file_extension": ".py",
   "mimetype": "text/x-python",
   "name": "python",
   "nbconvert_exporter": "python",
   "pygments_lexer": "ipython3",
   "version": "3.8.5"
  }
 },
 "nbformat": 4,
 "nbformat_minor": 1
}