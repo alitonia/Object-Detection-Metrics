{
 "cells": [
  {
   "cell_type": "code",
   "execution_count": null,
   "outputs": [],
   "source": [
    "% matplotlib inline\n",
    "\n",
    "import time\n",
    "import os\n",
    "import cv2\n",
    "from matplotlib import pyplot as plt\n",
    "import multiprocessing\n",
    "\n"
   ],
   "metadata": {
    "collapsed": false,
    "pycharm": {
     "name": "#%%\n"
    }
   }
  },
  {
   "cell_type": "code",
   "execution_count": null,
   "metadata": {
    "collapsed": true
   },
   "outputs": [],
   "source": [
    "class B:\n",
    "    def initialize(self):\n",
    "        pass\n",
    "\n",
    "    def detect(self, img):\n",
    "        pass\n",
    "\n",
    "\n",
    "o = B()\n",
    "o.initialize()\n"
   ]
  },
  {
   "cell_type": "code",
   "execution_count": null,
   "outputs": [],
   "source": [
    "total = 0\n",
    "with open('temp.log', 'r') as f:\n",
    "    total = int(f.readline())\n",
    "\n",
    "print(total)"
   ],
   "metadata": {
    "collapsed": false,
    "pycharm": {
     "name": "#%%\n"
    }
   }
  },
  {
   "cell_type": "code",
   "execution_count": null,
   "outputs": [],
   "source": [
    "file_paths = []\n",
    "\n",
    "path = 'WIDER_test/images'\n",
    "for (dirpath, dirnames, filenames) in os.walk(path):\n",
    "    if len(dirnames) == 0:\n",
    "        file_paths.extend([dirpath + f_name for f_name in filenames])\n",
    "\n",
    "print(file_paths[0])"
   ],
   "metadata": {
    "collapsed": false,
    "pycharm": {
     "name": "#%%\n"
    }
   }
  },
  {
   "cell_type": "code",
   "execution_count": null,
   "outputs": [],
   "source": [
    "img_list = [cv2.imread(x) for x in file_paths]\n",
    "\n",
    "plt.imshow(img_list[0])\n",
    "plt.show()\n"
   ],
   "metadata": {
    "collapsed": false,
    "pycharm": {
     "name": "#%%\n"
    }
   }
  },
  {
   "cell_type": "code",
   "execution_count": null,
   "outputs": [],
   "source": [
    "print(f\"Timing on {multiprocessing.cpu_count()} CPUs\")\n",
    "\n",
    "start = time.time()\n",
    "for i in img_list:\n",
    "    B.detect(i)\n",
    "end = time.time()\n",
    "\n",
    "elapsed_time = end - start\n",
    "print(f\"Total time: {elapsed_time}\")\n",
    "print(f\"Average time: {elapsed_time / total}\")\n",
    "\n"
   ],
   "metadata": {
    "collapsed": false,
    "pycharm": {
     "name": "#%%\n"
    }
   }
  },
  {
   "cell_type": "code",
   "execution_count": null,
   "outputs": [],
   "source": [],
   "metadata": {
    "collapsed": false,
    "pycharm": {
     "name": "#%%\n"
    }
   }
  }
 ],
 "metadata": {
  "kernelspec": {
   "display_name": "Python 3",
   "language": "python",
   "name": "python3"
  },
  "language_info": {
   "codemirror_mode": {
    "name": "ipython",
    "version": 2
   },
   "file_extension": ".py",
   "mimetype": "text/x-python",
   "name": "python",
   "nbconvert_exporter": "python",
   "pygments_lexer": "ipython2",
   "version": "2.7.6"
  }
 },
 "nbformat": 4,
 "nbformat_minor": 0
}